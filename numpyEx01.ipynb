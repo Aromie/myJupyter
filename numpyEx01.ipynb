{
  "metadata": {
    "language_info": {
      "name": "python",
      "version": "3.7.12",
      "mimetype": "text/x-python",
      "codemirror_mode": {
        "name": "ipython",
        "version": 3
      },
      "pygments_lexer": "ipython3",
      "nbconvert_exporter": "python",
      "file_extension": ".py"
    },
    "kernelspec": {
      "name": "python3",
      "display_name": "Python 3 (ipykernel)",
      "language": "python"
    },
    "colab": {
      "provenance": []
    }
  },
  "nbformat_minor": 5,
  "nbformat": 4,
  "cells": [
    {
      "cell_type": "code",
      "source": [
        "import numpy as np\n",
        "\n",
        "x = np.array(range(6))\n",
        "x"
      ],
      "metadata": {
        "trusted": true,
        "id": "5231ff01-c0f3-4680-8147-d50f67c3e8f9",
        "outputId": "aedc56fd-37b4-4395-ad2e-36b6eba7599f"
      },
      "execution_count": null,
      "outputs": [
        {
          "execution_count": 3,
          "output_type": "execute_result",
          "data": {
            "text/plain": "array([0, 1, 2, 3, 4, 5])"
          },
          "metadata": {}
        }
      ],
      "id": "5231ff01-c0f3-4680-8147-d50f67c3e8f9"
    },
    {
      "cell_type": "code",
      "source": [
        "! pip3 install numpy"
      ],
      "metadata": {
        "trusted": true,
        "id": "eaf61e2c-68ab-42b3-b373-01768125c2a9",
        "outputId": "000cb60a-87c8-49fd-eff5-30fdd62efa1e"
      },
      "execution_count": null,
      "outputs": [
        {
          "name": "stdout",
          "text": "Collecting numpy\n  Downloading numpy-1.21.6-cp37-cp37m-manylinux_2_12_x86_64.manylinux2010_x86_64.whl (15.7 MB)\n\u001b[2K     \u001b[90m━━━━━━━━━━━━━━━━━━━━━━━━━━━━━━━━━━━━━━━━\u001b[0m \u001b[32m15.7/15.7 MB\u001b[0m \u001b[31m51.1 MB/s\u001b[0m eta \u001b[36m0:00:00\u001b[0m00:01\u001b[0m00:01\u001b[0m\n\u001b[?25hInstalling collected packages: numpy\nSuccessfully installed numpy-1.21.6\n",
          "output_type": "stream"
        }
      ],
      "id": "eaf61e2c-68ab-42b3-b373-01768125c2a9"
    },
    {
      "cell_type": "code",
      "source": [
        "x.shape"
      ],
      "metadata": {
        "trusted": true,
        "id": "9fc13b1c-3d25-42d6-9e04-4617eb8294ec",
        "outputId": "cea98ef1-1912-4a12-9f92-c36ec932e236"
      },
      "execution_count": null,
      "outputs": [
        {
          "execution_count": 4,
          "output_type": "execute_result",
          "data": {
            "text/plain": "(6,)"
          },
          "metadata": {}
        }
      ],
      "id": "9fc13b1c-3d25-42d6-9e04-4617eb8294ec"
    },
    {
      "cell_type": "code",
      "source": [
        "y=np.array(range(6)).reshape(2,3)"
      ],
      "metadata": {
        "trusted": true,
        "id": "3cabc6b2-0955-4b65-9fc3-7a0347a625ed"
      },
      "execution_count": null,
      "outputs": [],
      "id": "3cabc6b2-0955-4b65-9fc3-7a0347a625ed"
    },
    {
      "cell_type": "code",
      "source": [
        "y"
      ],
      "metadata": {
        "trusted": true,
        "id": "762fdf83-3490-45f2-a328-d3d9e11b02c3",
        "outputId": "dc4e4546-2efd-4625-c8e6-c0736b4d3630"
      },
      "execution_count": null,
      "outputs": [
        {
          "execution_count": 10,
          "output_type": "execute_result",
          "data": {
            "text/plain": "array([[0, 1, 2],\n       [3, 4, 5]])"
          },
          "metadata": {}
        }
      ],
      "id": "762fdf83-3490-45f2-a328-d3d9e11b02c3"
    },
    {
      "cell_type": "code",
      "source": [
        "y.ndim"
      ],
      "metadata": {
        "trusted": true,
        "id": "fd31880c-f8e1-4bea-b03a-701d9e3b7118",
        "outputId": "109b67c6-4c92-4903-85bd-04338e71afd9"
      },
      "execution_count": null,
      "outputs": [
        {
          "execution_count": 12,
          "output_type": "execute_result",
          "data": {
            "text/plain": "2"
          },
          "metadata": {}
        }
      ],
      "id": "fd31880c-f8e1-4bea-b03a-701d9e3b7118"
    },
    {
      "cell_type": "code",
      "source": [
        "arr3=np.array(range(10))\n",
        "arr3.reshape(2,5)\n",
        "arr3.ndim"
      ],
      "metadata": {
        "trusted": true,
        "id": "bc1e2252-0b16-439c-8a53-8d4e33b0d62e",
        "outputId": "4ef17441-3733-4774-efd7-07aa87a88598"
      },
      "execution_count": null,
      "outputs": [
        {
          "execution_count": 13,
          "output_type": "execute_result",
          "data": {
            "text/plain": "1"
          },
          "metadata": {}
        }
      ],
      "id": "bc1e2252-0b16-439c-8a53-8d4e33b0d62e"
    },
    {
      "cell_type": "code",
      "source": [
        "arr3"
      ],
      "metadata": {
        "trusted": true,
        "id": "06121c2e-463e-4c88-ac2f-c4f0ed3ec467",
        "outputId": "0ca3ce9c-f599-4424-8412-b4856deb6b8e"
      },
      "execution_count": null,
      "outputs": [
        {
          "execution_count": 14,
          "output_type": "execute_result",
          "data": {
            "text/plain": "array([0, 1, 2, 3, 4, 5, 6, 7, 8, 9])"
          },
          "metadata": {}
        }
      ],
      "id": "06121c2e-463e-4c88-ac2f-c4f0ed3ec467"
    },
    {
      "cell_type": "code",
      "source": [
        "arr = np.array(range(10)).reshape(2,5)\n",
        "arr.ndim"
      ],
      "metadata": {
        "trusted": true,
        "id": "cb70cc4c-203d-4f1b-9526-075f1892fd56",
        "outputId": "d8a7ac1b-2018-460e-ce71-2c460b27116a"
      },
      "execution_count": null,
      "outputs": [
        {
          "execution_count": 15,
          "output_type": "execute_result",
          "data": {
            "text/plain": "2"
          },
          "metadata": {}
        }
      ],
      "id": "cb70cc4c-203d-4f1b-9526-075f1892fd56"
    },
    {
      "cell_type": "code",
      "source": [
        "from sklearn.datasets import load_diabetes \n",
        "\n",
        "diabetes = load_diabetes()"
      ],
      "metadata": {
        "trusted": true,
        "id": "d05a340f-8d56-493e-a022-e6b0e3aa21bb"
      },
      "execution_count": null,
      "outputs": [],
      "id": "d05a340f-8d56-493e-a022-e6b0e3aa21bb"
    },
    {
      "cell_type": "code",
      "source": [
        "! pip3 install sklearn"
      ],
      "metadata": {
        "trusted": true,
        "id": "0f7262c9-0d5f-4f3b-b4c3-fe0e9e0d66eb",
        "outputId": "916cec5d-c469-4e8e-feef-518c60a46ba3"
      },
      "execution_count": null,
      "outputs": [
        {
          "name": "stdout",
          "text": "Collecting sklearn\n  Downloading sklearn-0.0.tar.gz (1.1 kB)\n  Preparing metadata (setup.py) ... \u001b[?25ldone\n\u001b[?25hCollecting scikit-learn\n  Downloading scikit_learn-1.0.2-cp37-cp37m-manylinux_2_17_x86_64.manylinux2014_x86_64.whl (24.8 MB)\n\u001b[2K     \u001b[90m━━━━━━━━━━━━━━━━━━━━━━━━━━━━━━━━━━━━━━━━\u001b[0m \u001b[32m24.8/24.8 MB\u001b[0m \u001b[31m45.2 MB/s\u001b[0m eta \u001b[36m0:00:00\u001b[0m00:01\u001b[0m00:01\u001b[0m\n\u001b[?25hCollecting joblib>=0.11\n  Downloading joblib-1.2.0-py3-none-any.whl (297 kB)\n\u001b[2K     \u001b[90m━━━━━━━━━━━━━━━━━━━━━━━━━━━━━━━━━━━━━━\u001b[0m \u001b[32m298.0/298.0 kB\u001b[0m \u001b[31m38.3 MB/s\u001b[0m eta \u001b[36m0:00:00\u001b[0m\n\u001b[?25hCollecting threadpoolctl>=2.0.0\n  Downloading threadpoolctl-3.1.0-py3-none-any.whl (14 kB)\nRequirement already satisfied: numpy>=1.14.6 in /srv/conda/envs/notebook/lib/python3.7/site-packages (from scikit-learn->sklearn) (1.21.6)\nCollecting scipy>=1.1.0\n  Downloading scipy-1.7.3-cp37-cp37m-manylinux_2_12_x86_64.manylinux2010_x86_64.whl (38.1 MB)\n\u001b[2K     \u001b[90m━━━━━━━━━━━━━━━━━━━━━━━━━━━━━━━━━━━━━━━━\u001b[0m \u001b[32m38.1/38.1 MB\u001b[0m \u001b[31m31.2 MB/s\u001b[0m eta \u001b[36m0:00:00\u001b[0m00:01\u001b[0m00:01\u001b[0m\n\u001b[?25hBuilding wheels for collected packages: sklearn\n  Building wheel for sklearn (setup.py) ... \u001b[?25ldone\n\u001b[?25h  Created wheel for sklearn: filename=sklearn-0.0-py2.py3-none-any.whl size=1304 sha256=324265431944f7f066cb713b3b19ffa0959bc11b457754cd867a59419e8cdb9e\n  Stored in directory: /home/jovyan/.cache/pip/wheels/46/ef/c3/157e41f5ee1372d1be90b09f74f82b10e391eaacca8f22d33e\nSuccessfully built sklearn\nInstalling collected packages: threadpoolctl, scipy, joblib, scikit-learn, sklearn\nSuccessfully installed joblib-1.2.0 scikit-learn-1.0.2 scipy-1.7.3 sklearn-0.0 threadpoolctl-3.1.0\n",
          "output_type": "stream"
        }
      ],
      "id": "0f7262c9-0d5f-4f3b-b4c3-fe0e9e0d66eb"
    },
    {
      "cell_type": "code",
      "source": [
        "type(diabetes)"
      ],
      "metadata": {
        "trusted": true,
        "id": "87fbd989-9562-4ce5-8536-91997ec4aefb",
        "outputId": "3e79d61d-db82-486d-9704-600017f3a4e0"
      },
      "execution_count": null,
      "outputs": [
        {
          "execution_count": 20,
          "output_type": "execute_result",
          "data": {
            "text/plain": "sklearn.utils.Bunch"
          },
          "metadata": {}
        }
      ],
      "id": "87fbd989-9562-4ce5-8536-91997ec4aefb"
    },
    {
      "cell_type": "code",
      "source": [
        "data=diabetes.data\n",
        "print(data.shape, data.ndim)"
      ],
      "metadata": {
        "trusted": true,
        "id": "220ba00c-1473-474a-89f6-c256f9023ada",
        "outputId": "0d0b6993-f126-40e5-8445-ab2fae864b32"
      },
      "execution_count": null,
      "outputs": [
        {
          "name": "stdout",
          "text": "(442, 10) 2\n",
          "output_type": "stream"
        }
      ],
      "id": "220ba00c-1473-474a-89f6-c256f9023ada"
    },
    {
      "cell_type": "code",
      "source": [
        "arr2 = np.array(range(12)).reshape(3,4)\n",
        "arr2.ndim"
      ],
      "metadata": {
        "trusted": true,
        "id": "955ebf46-f644-452b-ae37-d2ed6725721d",
        "outputId": "a93947d0-f759-4557-d793-948b1c9392b7"
      },
      "execution_count": null,
      "outputs": [
        {
          "execution_count": 22,
          "output_type": "execute_result",
          "data": {
            "text/plain": "2"
          },
          "metadata": {}
        }
      ],
      "id": "955ebf46-f644-452b-ae37-d2ed6725721d"
    },
    {
      "cell_type": "code",
      "source": [],
      "metadata": {
        "id": "8b92375c-1a98-4389-9f1f-fb6dab4f4d68"
      },
      "execution_count": null,
      "outputs": [],
      "id": "8b92375c-1a98-4389-9f1f-fb6dab4f4d68"
    }
  ]
}